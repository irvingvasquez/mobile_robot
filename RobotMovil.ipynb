{
 "cells": [
  {
   "cell_type": "markdown",
   "metadata": {},
   "source": [
    "# Programación de un robot Móvil\n",
    "\n",
    "Esta práctica consiste en poder graficar el movimiento de un robot dado un control, haciendo uso de la cinemática directa "
   ]
  },
  {
   "cell_type": "markdown",
   "metadata": {},
   "source": [
    "Se realizarán las importaciones de las librerías necesarias para que se pueda gráficar "
   ]
  },
  {
   "cell_type": "code",
   "execution_count": null,
   "metadata": {},
   "outputs": [],
   "source": [
    "# importar el módulo pyplot\n",
    "import matplotlib.pyplot as plt\n",
    "import math\n",
    "\n",
    "import utils"
   ]
  },
  {
   "cell_type": "markdown",
   "metadata": {},
   "source": [
    "Utilizaremos matrices de transformación homogenea\n",
    "\n",
    "La configuración del robot es\n",
    "$$\n",
    "   (x, y, \\theta)\n",
    "$$\n",
    "\n",
    "Entonces la función de rotación te debe devolver \n",
    "\n",
    "$$\n",
    "R_z(\\theta) = \\begin{bmatrix} \n",
    "cos \\theta & - sin \\theta & 0 \\\\\n",
    "sin \\theta & cos \\theta  & 0 \\\\\n",
    "0 & 0 & 1\n",
    "\\end{bmatrix}\n",
    "$$\n",
    "\n",
    "y la función de traslación simplemente te devuelve\n",
    "\n",
    "$$\n",
    "T(x,y) = \\begin{bmatrix} \n",
    "0 & 0 & x \\\\\n",
    "0 & 0  & y \\\\\n",
    "0 & 0 & 0\n",
    "\\end{bmatrix}\n",
    "$$\n",
    "\n",
    "Para generar una transformación usaremos\n",
    "\n",
    "$$\n",
    "H(x,y,\\theta) = R_z(\\theta) + T(x,y)\n",
    "$$"
   ]
  },
  {
   "cell_type": "markdown",
   "metadata": {},
   "source": [
    "## Uso de numpy\n",
    "\n",
    "definir una matriz en numpy\n",
    "\n",
    "R = np.array([lista])"
   ]
  },
  {
   "cell_type": "markdown",
   "metadata": {},
   "source": [
    "Se crea una clase denominada Robot que será encargada de poder calcular la posición del cuerpo del robot una vez que se establecen las condiciones iniciales y un control dado"
   ]
  },
  {
   "cell_type": "code",
   "execution_count": null,
   "metadata": {},
   "outputs": [],
   "source": [
    "## Definir la clase Robot\n",
    "\n",
    "class Robot():\n",
    "    def __init__(self, max_dof, q_actual, polygon):\n",
    "        #protected attributes (underscore)\n",
    "        self._max_dof = 3        # grados de libertad del robot\n",
    "        self._q = q_actual  # condiciones iniciales\n",
    "        self._body = polygon\n",
    "        \n",
    "        # Retorna la configuración actual\n",
    "    def getConfig():\n",
    "        return q\n",
    "            \n",
    "    def _getRotation(q):\n",
    "        # Retorna la matriz de rotaciòn de acuerdo a lo visto arriba en formato array\n",
    "        pass\n",
    "    \n",
    "    def _getTranslation(q):\n",
    "        # Retorna la matriz de traslacion\n",
    "        pass\n",
    "        \n",
    "    def getHomogeneousTransform(q):\n",
    "        # Retorna la matriz completa H formada por la suma de R + T\n",
    "        # Retorna la matriz completa formada por la suma\n",
    "        H = self.getRotation(q) + self.getTranslation(q)\n",
    "        return H\n",
    "    \n",
    "    def _getTranslatedBody(q):\n",
    "        # retorna un poligono transformado por q\n",
    "        \n",
    "        # para cada punto multiplicarlo por H\n",
    "        pass\n",
    "    \n",
    "    def getCurrentBody():\n",
    "        return getTranslatedBody(self._q)"
   ]
  },
  {
   "cell_type": "code",
   "execution_count": null,
   "metadata": {},
   "outputs": [],
   "source": [
    "#TODO: Crea un polígono que represente al robot\n",
    "\n",
    "cuerpo = None"
   ]
  },
  {
   "cell_type": "code",
   "execution_count": null,
   "metadata": {},
   "outputs": [],
   "source": [
    "# Crea un objeto de la clase Robot donde establezcas una configuración\n",
    "\n",
    "# establece el número de grados de libertad\n",
    "config_dim = None\n",
    "# configuracion\n",
    "config = None\n",
    "# crea el objeto\n",
    "speedy = Robot(config_dim, config, cuerpo)"
   ]
  },
  {
   "cell_type": "code",
   "execution_count": null,
   "metadata": {},
   "outputs": [],
   "source": [
    "# obtener el poligono\n",
    "poli_en_posicion = speedy.getCurentBody()"
   ]
  },
  {
   "cell_type": "code",
   "execution_count": null,
   "metadata": {},
   "outputs": [],
   "source": [
    "# Desplegar el poligono rotado\n",
    "utils.plotPoligons(poli_en_posicion)"
   ]
  },
  {
   "cell_type": "code",
   "execution_count": null,
   "metadata": {},
   "outputs": [],
   "source": []
  }
 ],
 "metadata": {
  "kernelspec": {
   "display_name": "Python 3",
   "language": "python",
   "name": "python3"
  },
  "language_info": {
   "codemirror_mode": {
    "name": "ipython",
    "version": 3
   },
   "file_extension": ".py",
   "mimetype": "text/x-python",
   "name": "python",
   "nbconvert_exporter": "python",
   "pygments_lexer": "ipython3",
   "version": "3.6.3"
  }
 },
 "nbformat": 4,
 "nbformat_minor": 2
}
